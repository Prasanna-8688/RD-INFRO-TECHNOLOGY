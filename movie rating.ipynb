{
 "cells": [
  {
   "cell_type": "code",
   "execution_count": 1,
   "id": "0c69c58f-a44b-4a88-9a5a-b6a1b3c9747a",
   "metadata": {},
   "outputs": [
    {
     "name": "stderr",
     "output_type": "stream",
     "text": [
      "<>:12: SyntaxWarning: invalid escape sequence '\\d'\n",
      "<>:13: SyntaxWarning: invalid escape sequence '\\d'\n",
      "<>:12: SyntaxWarning: invalid escape sequence '\\d'\n",
      "<>:13: SyntaxWarning: invalid escape sequence '\\d'\n",
      "C:\\Users\\prasa\\AppData\\Local\\Temp\\ipykernel_5252\\704254775.py:12: SyntaxWarning: invalid escape sequence '\\d'\n",
      "  df[\"Year\"] = df[\"Year\"].str.extract(\"(\\d+)\").astype(float)\n",
      "C:\\Users\\prasa\\AppData\\Local\\Temp\\ipykernel_5252\\704254775.py:13: SyntaxWarning: invalid escape sequence '\\d'\n",
      "  df[\"Duration\"] = df[\"Duration\"].str.extract(\"(\\d+)\").astype(float)\n",
      "C:\\Users\\prasa\\AppData\\Local\\Temp\\ipykernel_5252\\704254775.py:22: FutureWarning: A value is trying to be set on a copy of a DataFrame or Series through chained assignment using an inplace method.\n",
      "The behavior will change in pandas 3.0. This inplace method will never work because the intermediate object on which we are setting values always behaves as a copy.\n",
      "\n",
      "For example, when doing 'df[col].method(value, inplace=True)', try using 'df.method({col: value}, inplace=True)' or df[col] = df[col].method(value) instead, to perform the operation inplace on the original object.\n",
      "\n",
      "\n",
      "  df[\"Duration\"].fillna(df[\"Duration\"].median(), inplace=True)\n",
      "C:\\Users\\prasa\\AppData\\Local\\Temp\\ipykernel_5252\\704254775.py:23: FutureWarning: A value is trying to be set on a copy of a DataFrame or Series through chained assignment using an inplace method.\n",
      "The behavior will change in pandas 3.0. This inplace method will never work because the intermediate object on which we are setting values always behaves as a copy.\n",
      "\n",
      "For example, when doing 'df[col].method(value, inplace=True)', try using 'df.method({col: value}, inplace=True)' or df[col] = df[col].method(value) instead, to perform the operation inplace on the original object.\n",
      "\n",
      "\n",
      "  df[\"Year\"].fillna(df[\"Year\"].median(), inplace=True)\n",
      "C:\\Users\\prasa\\AppData\\Local\\Temp\\ipykernel_5252\\704254775.py:24: FutureWarning: A value is trying to be set on a copy of a DataFrame or Series through chained assignment using an inplace method.\n",
      "The behavior will change in pandas 3.0. This inplace method will never work because the intermediate object on which we are setting values always behaves as a copy.\n",
      "\n",
      "For example, when doing 'df[col].method(value, inplace=True)', try using 'df.method({col: value}, inplace=True)' or df[col] = df[col].method(value) instead, to perform the operation inplace on the original object.\n",
      "\n",
      "\n",
      "  df[\"Votes\"].fillna(0, inplace=True)\n"
     ]
    },
    {
     "name": "stdout",
     "output_type": "stream",
     "text": [
      "RMSE: 1.103787863267195\n",
      "R² Score: 0.3446731938987354\n",
      "Mean Absolute Error: 0.8353049242424243\n",
      "Explained Variance Score: 0.34719739458981236\n"
     ]
    },
    {
     "name": "stderr",
     "output_type": "stream",
     "text": [
      "C:\\Users\\prasa\\anaconda3\\Lib\\site-packages\\sklearn\\metrics\\_regression.py:492: FutureWarning: 'squared' is deprecated in version 1.4 and will be removed in 1.6. To calculate the root mean squared error, use the function'root_mean_squared_error'.\n",
      "  warnings.warn(\n"
     ]
    }
   ],
   "source": [
    "import pandas as pd\n",
    "import numpy as np\n",
    "from sklearn.model_selection import train_test_split\n",
    "from sklearn.preprocessing import LabelEncoder\n",
    "from sklearn.ensemble import RandomForestRegressor\n",
    "from sklearn.metrics import mean_squared_error, r2_score, mean_absolute_error, explained_variance_score\n",
    "\n",
    "# Load the dataset\n",
    "df = pd.read_csv(\"IMDb Movies India.csv\", encoding=\"ISO-8859-1\")\n",
    "\n",
    "# Convert 'Year' and 'Duration' to numeric\n",
    "df[\"Year\"] = df[\"Year\"].str.extract(\"(\\d+)\").astype(float)\n",
    "df[\"Duration\"] = df[\"Duration\"].str.extract(\"(\\d+)\").astype(float)\n",
    "\n",
    "# Convert 'Votes' to numeric (handling commas and non-numeric values)\n",
    "df[\"Votes\"] = pd.to_numeric(df[\"Votes\"].str.replace(\",\", \"\", regex=True), errors=\"coerce\")\n",
    "\n",
    "# Drop rows where 'Rating' (target variable) is missing\n",
    "df = df.dropna(subset=[\"Rating\"])\n",
    "\n",
    "# Fill missing values\n",
    "df[\"Duration\"].fillna(df[\"Duration\"].median(), inplace=True)\n",
    "df[\"Year\"].fillna(df[\"Year\"].median(), inplace=True)\n",
    "df[\"Votes\"].fillna(0, inplace=True)\n",
    "df.fillna(\"Unknown\", inplace=True)  # Fill categorical missing values with 'Unknown'\n",
    "\n",
    "# Label encode categorical columns\n",
    "categorical_cols = [\"Genre\", \"Director\", \"Actor 1\", \"Actor 2\", \"Actor 3\"]\n",
    "label_encoders = {}\n",
    "for col in categorical_cols:\n",
    "    label_encoders[col] = LabelEncoder()\n",
    "    df[col] = label_encoders[col].fit_transform(df[col].astype(str))\n",
    "\n",
    "# Drop 'Name' column as it's not useful for prediction\n",
    "df.drop(columns=[\"Name\"], inplace=True)\n",
    "\n",
    "# Define features and target variable\n",
    "X = df.drop(columns=[\"Rating\"])  # Features\n",
    "y = df[\"Rating\"]  # Target\n",
    "\n",
    "# Split the data into training (80%) and testing (20%) sets\n",
    "X_train, X_test, y_train, y_test = train_test_split(X, y, test_size=0.2, random_state=42)\n",
    "\n",
    "# Train a Random Forest Regressor\n",
    "model = RandomForestRegressor(n_estimators=100, random_state=42)\n",
    "model.fit(X_train, y_train)\n",
    "\n",
    "# Make predictions\n",
    "y_pred = model.predict(X_test)\n",
    "\n",
    "# Evaluate the model\n",
    "rmse = mean_squared_error(y_test, y_pred, squared=False)\n",
    "r2 = r2_score(y_test, y_pred)\n",
    "mae = mean_absolute_error(y_test, y_pred)\n",
    "ev = explained_variance_score(y_test, y_pred)\n",
    "\n",
    "print(f\"RMSE: {rmse}\")\n",
    "print(f\"R² Score: {r2}\")\n",
    "print(f\"Mean Absolute Error: {mae}\")\n",
    "print(f\"Explained Variance Score: {ev}\")\n"
   ]
  }
 ],
 "metadata": {
  "kernelspec": {
   "display_name": "Python 3 (ipykernel)",
   "language": "python",
   "name": "python3"
  },
  "language_info": {
   "codemirror_mode": {
    "name": "ipython",
    "version": 3
   },
   "file_extension": ".py",
   "mimetype": "text/x-python",
   "name": "python",
   "nbconvert_exporter": "python",
   "pygments_lexer": "ipython3",
   "version": "3.12.7"
  }
 },
 "nbformat": 4,
 "nbformat_minor": 5
}
